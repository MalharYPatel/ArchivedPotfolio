{
 "cells": [
  {
   "cell_type": "code",
   "execution_count": 176,
   "id": "e86d296c",
   "metadata": {},
   "outputs": [],
   "source": [
    "# -*- coding: utf-8 -*-\n",
    "\"\"\"\n",
    "Created on Fri Mar 11 13:25:40 2022\n",
    "\n",
    "@author: Malhar\n",
    "Logisitic regression of variables affecting Buy and Sell Outcomes. Rather than make each outcome a catagorical, I chose to run\n",
    "each regression buy/sell seperately to acheive better fits\n",
    "\n",
    "\"\"\"\n",
    "import pandas as pd\n",
    "import numpy as np\n",
    "from sklearn.model_selection import train_test_split\n",
    "from sklearn.preprocessing import StandardScaler\n",
    "from sklearn.linear_model import LogisticRegression\n",
    "from sklearn.metrics import confusion_matrix\n",
    "from sklearn.metrics import balanced_accuracy_score\n",
    "from sklearn.metrics import classification_report\n",
    "from sklearn.metrics import precision_score\n",
    "#we use the imbalanced learn library to correct imbalanced data\n",
    "from imblearn.over_sampling import RandomOverSampler\n"
   ]
  },
  {
   "cell_type": "code",
   "execution_count": 177,
   "id": "be1430c0",
   "metadata": {},
   "outputs": [
    {
     "name": "stdout",
     "output_type": "stream",
     "text": [
      "False    99088\n",
      "True     18482\n",
      "Name: Buy, dtype: int64\n",
      "False    99299\n",
      "True     18271\n",
      "Name: Sell, dtype: int64\n",
      "(117570, 52)\n"
     ]
    }
   ],
   "source": [
    "\n",
    "#import the data we cleaned in the previous notebook\n",
    "df = pd.read_csv(\"D:\\\\Malhar\\\\Anaconda3\\\\Malhar\\\\Data\\\\EUR USD 1H Data Preparation\\\\EURUSD1H_Cleaned.csv\")\n",
    "#Some Simple metrics on how many True/False values occur for Buy/Sell\n",
    "print(df['Buy'].value_counts())\n",
    "print(df['Sell'].value_counts())\n",
    "print(df.shape)\n",
    "#Shows Buy Signal 15.72% of the time, Sell Signal 15.54% of the time. We will need to balance the data"
   ]
  },
  {
   "cell_type": "code",
   "execution_count": 178,
   "id": "2d6292b4",
   "metadata": {},
   "outputs": [],
   "source": [
    "#Convert the Buy/Sell columns to numbers, since these are not scaled\n",
    "df['Buy'] = df['Buy'] * 2\n",
    "df['Sell'] = df['Sell'] * 1\n",
    "df['y'] = df['Sell'] + df['Buy']\n",
    "df.drop(columns=['Buy', 'Sell'], inplace = True)\n",
    "#There are a lot of columns, so making a list to slice the df in the future is quicker and clearer than using [:,-1]\n",
    "col_x = ['Volume', 'Month', 'Day', 'Hour', 'Change', 'Range', 'MA5', 'MA7', 'MA9', 'MA12', 'MA14', 'MA21', 'MA24', 'MA50', 'MA100', 'MA120', 'MA200', 'Range5', 'Range7', 'Range9', 'Range12', 'Range14', 'Range21', 'Range24', 'Range50', 'Range100', 'Range120', 'Range200', 'HH2', 'LL2', 'HH3', 'LL3', 'HH4', 'LL4', 'HH5', 'LL5', 'HH6', 'LL6', 'HH7', 'LL7', 'HH8', 'LL8', 'HH9', 'LL9', 'HH10', 'LL10', 'HH11', 'LL11', 'HH12', 'LL12']\n",
    "\n",
    "#x are the independant variables, y is the dependant variable\n",
    "#b is for a buy outcome, and s for selll outcomes\n",
    "\n",
    "x = df[col_x]\n",
    "y = df['y']"
   ]
  },
  {
   "cell_type": "code",
   "execution_count": 179,
   "id": "6668f3a3",
   "metadata": {},
   "outputs": [],
   "source": [
    "#Split test and train data for Buy and Sell using Hold Out method\n",
    "xtrain, xtest, ytrain, ytest = train_test_split(\n",
    "\t\tx, y, test_size = 0.25, random_state = 0)"
   ]
  },
  {
   "cell_type": "code",
   "execution_count": 180,
   "id": "ddcbb87c",
   "metadata": {},
   "outputs": [
    {
     "data": {
      "text/plain": [
       "\"\\n#Scale data and make non numeric data numeric\\nsc = StandardScaler()\\nxtrain = sc.fit_transform(xtrain)\\nxtest = sc.transform(xtest)\\nxtrain= xtrain.reshape(-1, 1)\\nytrain= ytrain.reshape(-1, 1)\\nxtest = xtest.reshape(-1, 1)\\n#xtrain =pd.DataFrame(data = xtrain, columns = col_x)\\n#xtest =pd.DataFrame(data = xtest, columns = col_x)\\n#print(ytrain['y'])\\n\""
      ]
     },
     "execution_count": 180,
     "metadata": {},
     "output_type": "execute_result"
    }
   ],
   "source": [
    "'''\n",
    "#Scale data and make non numeric data numeric\n",
    "sc = StandardScaler()\n",
    "xtrain = sc.fit_transform(xtrain)\n",
    "xtest = sc.transform(xtest)\n",
    "xtrain= xtrain.reshape(-1, 1)\n",
    "ytrain= ytrain.reshape(-1, 1)\n",
    "xtest = xtest.reshape(-1, 1)\n",
    "#xtrain =pd.DataFrame(data = xtrain, columns = col_x)\n",
    "#xtest =pd.DataFrame(data = xtest, columns = col_x)\n",
    "#print(ytrain['y'])\n",
    "'''"
   ]
  },
  {
   "cell_type": "code",
   "execution_count": null,
   "id": "fa7719a2",
   "metadata": {},
   "outputs": [],
   "source": []
  },
  {
   "cell_type": "code",
   "execution_count": 181,
   "id": "97c68aae",
   "metadata": {},
   "outputs": [
    {
     "data": {
      "text/plain": [
       "'\\n#Resample to balance, using unbalanced learn, Random Oversampler algorithim [less computationally intensive than SMOTE]\\nxtrain, ytrain = RandomOverSampler().fit_resample(xtrain, ytrain)\\n'"
      ]
     },
     "execution_count": 181,
     "metadata": {},
     "output_type": "execute_result"
    }
   ],
   "source": [
    "'''\n",
    "#Resample to balance, using unbalanced learn, Random Oversampler algorithim [less computationally intensive than SMOTE]\n",
    "xtrain, ytrain = RandomOverSampler().fit_resample(xtrain, ytrain)\n",
    "'''"
   ]
  },
  {
   "cell_type": "code",
   "execution_count": null,
   "id": "4099ce2c",
   "metadata": {},
   "outputs": [],
   "source": []
  },
  {
   "cell_type": "code",
   "execution_count": 182,
   "id": "bf507574",
   "metadata": {},
   "outputs": [
    {
     "name": "stderr",
     "output_type": "stream",
     "text": [
      "C:\\Users\\PijuP\\AppData\\Local\\Temp/ipykernel_2164/239374313.py:9: RuntimeWarning: invalid value encountered in longlong_scalars\n",
      "  p1 = e/(e+b+h)\n",
      "C:\\Users\\PijuP\\AppData\\Local\\Temp/ipykernel_2164/239374313.py:13: RuntimeWarning: invalid value encountered in longlong_scalars\n",
      "  p2 = f/(f+c+i)\n"
     ]
    },
    {
     "name": "stdout",
     "output_type": "stream",
     "text": [
      "Volume\n",
      "nan\n"
     ]
    },
    {
     "name": "stderr",
     "output_type": "stream",
     "text": [
      "C:\\Users\\PijuP\\AppData\\Local\\Temp/ipykernel_2164/239374313.py:9: RuntimeWarning: invalid value encountered in longlong_scalars\n",
      "  p1 = e/(e+b+h)\n",
      "C:\\Users\\PijuP\\AppData\\Local\\Temp/ipykernel_2164/239374313.py:13: RuntimeWarning: invalid value encountered in longlong_scalars\n",
      "  p2 = f/(f+c+i)\n"
     ]
    },
    {
     "name": "stdout",
     "output_type": "stream",
     "text": [
      "Month\n",
      "nan\n"
     ]
    },
    {
     "name": "stderr",
     "output_type": "stream",
     "text": [
      "C:\\Users\\PijuP\\AppData\\Local\\Temp/ipykernel_2164/239374313.py:9: RuntimeWarning: invalid value encountered in longlong_scalars\n",
      "  p1 = e/(e+b+h)\n",
      "C:\\Users\\PijuP\\AppData\\Local\\Temp/ipykernel_2164/239374313.py:13: RuntimeWarning: invalid value encountered in longlong_scalars\n",
      "  p2 = f/(f+c+i)\n"
     ]
    },
    {
     "name": "stdout",
     "output_type": "stream",
     "text": [
      "Day\n",
      "nan\n"
     ]
    },
    {
     "name": "stderr",
     "output_type": "stream",
     "text": [
      "C:\\Users\\PijuP\\AppData\\Local\\Temp/ipykernel_2164/239374313.py:9: RuntimeWarning: invalid value encountered in longlong_scalars\n",
      "  p1 = e/(e+b+h)\n",
      "C:\\Users\\PijuP\\AppData\\Local\\Temp/ipykernel_2164/239374313.py:13: RuntimeWarning: invalid value encountered in longlong_scalars\n",
      "  p2 = f/(f+c+i)\n"
     ]
    },
    {
     "name": "stdout",
     "output_type": "stream",
     "text": [
      "Hour\n",
      "nan\n"
     ]
    },
    {
     "name": "stderr",
     "output_type": "stream",
     "text": [
      "C:\\Users\\PijuP\\AppData\\Local\\Temp/ipykernel_2164/239374313.py:9: RuntimeWarning: invalid value encountered in longlong_scalars\n",
      "  p1 = e/(e+b+h)\n",
      "C:\\Users\\PijuP\\AppData\\Local\\Temp/ipykernel_2164/239374313.py:13: RuntimeWarning: invalid value encountered in longlong_scalars\n",
      "  p2 = f/(f+c+i)\n"
     ]
    },
    {
     "name": "stdout",
     "output_type": "stream",
     "text": [
      "Change\n",
      "nan\n",
      "Range\n",
      "0.299652118912081\n"
     ]
    },
    {
     "name": "stderr",
     "output_type": "stream",
     "text": [
      "C:\\Users\\PijuP\\AppData\\Local\\Temp/ipykernel_2164/239374313.py:9: RuntimeWarning: invalid value encountered in longlong_scalars\n",
      "  p1 = e/(e+b+h)\n",
      "C:\\Users\\PijuP\\AppData\\Local\\Temp/ipykernel_2164/239374313.py:13: RuntimeWarning: invalid value encountered in longlong_scalars\n",
      "  p2 = f/(f+c+i)\n"
     ]
    },
    {
     "name": "stdout",
     "output_type": "stream",
     "text": [
      "MA5\n",
      "nan\n"
     ]
    },
    {
     "name": "stderr",
     "output_type": "stream",
     "text": [
      "C:\\Users\\PijuP\\AppData\\Local\\Temp/ipykernel_2164/239374313.py:9: RuntimeWarning: invalid value encountered in longlong_scalars\n",
      "  p1 = e/(e+b+h)\n",
      "C:\\Users\\PijuP\\AppData\\Local\\Temp/ipykernel_2164/239374313.py:13: RuntimeWarning: invalid value encountered in longlong_scalars\n",
      "  p2 = f/(f+c+i)\n"
     ]
    },
    {
     "name": "stdout",
     "output_type": "stream",
     "text": [
      "MA7\n",
      "nan\n"
     ]
    },
    {
     "name": "stderr",
     "output_type": "stream",
     "text": [
      "C:\\Users\\PijuP\\AppData\\Local\\Temp/ipykernel_2164/239374313.py:9: RuntimeWarning: invalid value encountered in longlong_scalars\n",
      "  p1 = e/(e+b+h)\n",
      "C:\\Users\\PijuP\\AppData\\Local\\Temp/ipykernel_2164/239374313.py:13: RuntimeWarning: invalid value encountered in longlong_scalars\n",
      "  p2 = f/(f+c+i)\n"
     ]
    },
    {
     "name": "stdout",
     "output_type": "stream",
     "text": [
      "MA9\n",
      "nan\n"
     ]
    },
    {
     "name": "stderr",
     "output_type": "stream",
     "text": [
      "C:\\Users\\PijuP\\AppData\\Local\\Temp/ipykernel_2164/239374313.py:9: RuntimeWarning: invalid value encountered in longlong_scalars\n",
      "  p1 = e/(e+b+h)\n",
      "C:\\Users\\PijuP\\AppData\\Local\\Temp/ipykernel_2164/239374313.py:13: RuntimeWarning: invalid value encountered in longlong_scalars\n",
      "  p2 = f/(f+c+i)\n"
     ]
    },
    {
     "name": "stdout",
     "output_type": "stream",
     "text": [
      "MA12\n",
      "nan\n"
     ]
    },
    {
     "name": "stderr",
     "output_type": "stream",
     "text": [
      "C:\\Users\\PijuP\\AppData\\Local\\Temp/ipykernel_2164/239374313.py:9: RuntimeWarning: invalid value encountered in longlong_scalars\n",
      "  p1 = e/(e+b+h)\n",
      "C:\\Users\\PijuP\\AppData\\Local\\Temp/ipykernel_2164/239374313.py:13: RuntimeWarning: invalid value encountered in longlong_scalars\n",
      "  p2 = f/(f+c+i)\n"
     ]
    },
    {
     "name": "stdout",
     "output_type": "stream",
     "text": [
      "MA14\n",
      "nan\n"
     ]
    },
    {
     "name": "stderr",
     "output_type": "stream",
     "text": [
      "C:\\Users\\PijuP\\AppData\\Local\\Temp/ipykernel_2164/239374313.py:9: RuntimeWarning: invalid value encountered in longlong_scalars\n",
      "  p1 = e/(e+b+h)\n",
      "C:\\Users\\PijuP\\AppData\\Local\\Temp/ipykernel_2164/239374313.py:13: RuntimeWarning: invalid value encountered in longlong_scalars\n",
      "  p2 = f/(f+c+i)\n"
     ]
    },
    {
     "name": "stdout",
     "output_type": "stream",
     "text": [
      "MA21\n",
      "nan\n"
     ]
    },
    {
     "name": "stderr",
     "output_type": "stream",
     "text": [
      "C:\\Users\\PijuP\\AppData\\Local\\Temp/ipykernel_2164/239374313.py:9: RuntimeWarning: invalid value encountered in longlong_scalars\n",
      "  p1 = e/(e+b+h)\n",
      "C:\\Users\\PijuP\\AppData\\Local\\Temp/ipykernel_2164/239374313.py:13: RuntimeWarning: invalid value encountered in longlong_scalars\n",
      "  p2 = f/(f+c+i)\n"
     ]
    },
    {
     "name": "stdout",
     "output_type": "stream",
     "text": [
      "MA24\n",
      "nan\n"
     ]
    },
    {
     "name": "stderr",
     "output_type": "stream",
     "text": [
      "C:\\Users\\PijuP\\AppData\\Local\\Temp/ipykernel_2164/239374313.py:9: RuntimeWarning: invalid value encountered in longlong_scalars\n",
      "  p1 = e/(e+b+h)\n",
      "C:\\Users\\PijuP\\AppData\\Local\\Temp/ipykernel_2164/239374313.py:13: RuntimeWarning: invalid value encountered in longlong_scalars\n",
      "  p2 = f/(f+c+i)\n"
     ]
    },
    {
     "name": "stdout",
     "output_type": "stream",
     "text": [
      "MA50\n",
      "nan\n"
     ]
    },
    {
     "name": "stderr",
     "output_type": "stream",
     "text": [
      "C:\\Users\\PijuP\\AppData\\Local\\Temp/ipykernel_2164/239374313.py:9: RuntimeWarning: invalid value encountered in longlong_scalars\n",
      "  p1 = e/(e+b+h)\n",
      "C:\\Users\\PijuP\\AppData\\Local\\Temp/ipykernel_2164/239374313.py:13: RuntimeWarning: invalid value encountered in longlong_scalars\n",
      "  p2 = f/(f+c+i)\n"
     ]
    },
    {
     "name": "stdout",
     "output_type": "stream",
     "text": [
      "MA100\n",
      "nan\n"
     ]
    },
    {
     "name": "stderr",
     "output_type": "stream",
     "text": [
      "C:\\Users\\PijuP\\AppData\\Local\\Temp/ipykernel_2164/239374313.py:9: RuntimeWarning: invalid value encountered in longlong_scalars\n",
      "  p1 = e/(e+b+h)\n",
      "C:\\Users\\PijuP\\AppData\\Local\\Temp/ipykernel_2164/239374313.py:13: RuntimeWarning: invalid value encountered in longlong_scalars\n",
      "  p2 = f/(f+c+i)\n"
     ]
    },
    {
     "name": "stdout",
     "output_type": "stream",
     "text": [
      "MA120\n",
      "nan\n"
     ]
    },
    {
     "name": "stderr",
     "output_type": "stream",
     "text": [
      "C:\\Users\\PijuP\\AppData\\Local\\Temp/ipykernel_2164/239374313.py:9: RuntimeWarning: invalid value encountered in longlong_scalars\n",
      "  p1 = e/(e+b+h)\n",
      "C:\\Users\\PijuP\\AppData\\Local\\Temp/ipykernel_2164/239374313.py:13: RuntimeWarning: invalid value encountered in longlong_scalars\n",
      "  p2 = f/(f+c+i)\n"
     ]
    },
    {
     "name": "stdout",
     "output_type": "stream",
     "text": [
      "MA200\n",
      "nan\n"
     ]
    },
    {
     "name": "stderr",
     "output_type": "stream",
     "text": [
      "C:\\Users\\PijuP\\AppData\\Local\\Temp/ipykernel_2164/239374313.py:13: RuntimeWarning: invalid value encountered in longlong_scalars\n",
      "  p2 = f/(f+c+i)\n"
     ]
    },
    {
     "name": "stdout",
     "output_type": "stream",
     "text": [
      "Range5\n",
      "nan\n"
     ]
    },
    {
     "name": "stderr",
     "output_type": "stream",
     "text": [
      "C:\\Users\\PijuP\\AppData\\Local\\Temp/ipykernel_2164/239374313.py:13: RuntimeWarning: invalid value encountered in longlong_scalars\n",
      "  p2 = f/(f+c+i)\n"
     ]
    },
    {
     "name": "stdout",
     "output_type": "stream",
     "text": [
      "Range7\n",
      "nan\n"
     ]
    },
    {
     "name": "stderr",
     "output_type": "stream",
     "text": [
      "C:\\Users\\PijuP\\AppData\\Local\\Temp/ipykernel_2164/239374313.py:13: RuntimeWarning: invalid value encountered in longlong_scalars\n",
      "  p2 = f/(f+c+i)\n"
     ]
    },
    {
     "name": "stdout",
     "output_type": "stream",
     "text": [
      "Range9\n",
      "nan\n"
     ]
    },
    {
     "name": "stderr",
     "output_type": "stream",
     "text": [
      "C:\\Users\\PijuP\\AppData\\Local\\Temp/ipykernel_2164/239374313.py:13: RuntimeWarning: invalid value encountered in longlong_scalars\n",
      "  p2 = f/(f+c+i)\n"
     ]
    },
    {
     "name": "stdout",
     "output_type": "stream",
     "text": [
      "Range12\n",
      "nan\n"
     ]
    },
    {
     "name": "stderr",
     "output_type": "stream",
     "text": [
      "C:\\Users\\PijuP\\AppData\\Local\\Temp/ipykernel_2164/239374313.py:13: RuntimeWarning: invalid value encountered in longlong_scalars\n",
      "  p2 = f/(f+c+i)\n"
     ]
    },
    {
     "name": "stdout",
     "output_type": "stream",
     "text": [
      "Range14\n",
      "nan\n"
     ]
    },
    {
     "name": "stderr",
     "output_type": "stream",
     "text": [
      "C:\\Users\\PijuP\\AppData\\Local\\Temp/ipykernel_2164/239374313.py:13: RuntimeWarning: invalid value encountered in longlong_scalars\n",
      "  p2 = f/(f+c+i)\n"
     ]
    },
    {
     "name": "stdout",
     "output_type": "stream",
     "text": [
      "Range21\n",
      "nan\n",
      "Range24\n",
      "0.33933393339333934\n",
      "Range50\n",
      "0.4985315712187959\n",
      "Range100\n",
      "0.3533089457931493\n"
     ]
    },
    {
     "name": "stderr",
     "output_type": "stream",
     "text": [
      "C:\\Users\\PijuP\\AppData\\Local\\Temp/ipykernel_2164/239374313.py:13: RuntimeWarning: invalid value encountered in longlong_scalars\n",
      "  p2 = f/(f+c+i)\n"
     ]
    },
    {
     "name": "stdout",
     "output_type": "stream",
     "text": [
      "Range120\n",
      "nan\n"
     ]
    },
    {
     "name": "stderr",
     "output_type": "stream",
     "text": [
      "C:\\Users\\PijuP\\AppData\\Local\\Temp/ipykernel_2164/239374313.py:13: RuntimeWarning: invalid value encountered in longlong_scalars\n",
      "  p2 = f/(f+c+i)\n"
     ]
    },
    {
     "name": "stdout",
     "output_type": "stream",
     "text": [
      "Range200\n",
      "nan\n"
     ]
    },
    {
     "name": "stderr",
     "output_type": "stream",
     "text": [
      "C:\\Users\\PijuP\\AppData\\Local\\Temp/ipykernel_2164/239374313.py:9: RuntimeWarning: invalid value encountered in longlong_scalars\n",
      "  p1 = e/(e+b+h)\n",
      "C:\\Users\\PijuP\\AppData\\Local\\Temp/ipykernel_2164/239374313.py:13: RuntimeWarning: invalid value encountered in longlong_scalars\n",
      "  p2 = f/(f+c+i)\n"
     ]
    },
    {
     "name": "stdout",
     "output_type": "stream",
     "text": [
      "HH2\n",
      "nan\n"
     ]
    },
    {
     "name": "stderr",
     "output_type": "stream",
     "text": [
      "C:\\Users\\PijuP\\AppData\\Local\\Temp/ipykernel_2164/239374313.py:9: RuntimeWarning: invalid value encountered in longlong_scalars\n",
      "  p1 = e/(e+b+h)\n",
      "C:\\Users\\PijuP\\AppData\\Local\\Temp/ipykernel_2164/239374313.py:13: RuntimeWarning: invalid value encountered in longlong_scalars\n",
      "  p2 = f/(f+c+i)\n"
     ]
    },
    {
     "name": "stdout",
     "output_type": "stream",
     "text": [
      "LL2\n",
      "nan\n"
     ]
    },
    {
     "name": "stderr",
     "output_type": "stream",
     "text": [
      "C:\\Users\\PijuP\\AppData\\Local\\Temp/ipykernel_2164/239374313.py:9: RuntimeWarning: invalid value encountered in longlong_scalars\n",
      "  p1 = e/(e+b+h)\n",
      "C:\\Users\\PijuP\\AppData\\Local\\Temp/ipykernel_2164/239374313.py:13: RuntimeWarning: invalid value encountered in longlong_scalars\n",
      "  p2 = f/(f+c+i)\n"
     ]
    },
    {
     "name": "stdout",
     "output_type": "stream",
     "text": [
      "HH3\n",
      "nan\n"
     ]
    },
    {
     "name": "stderr",
     "output_type": "stream",
     "text": [
      "C:\\Users\\PijuP\\AppData\\Local\\Temp/ipykernel_2164/239374313.py:9: RuntimeWarning: invalid value encountered in longlong_scalars\n",
      "  p1 = e/(e+b+h)\n",
      "C:\\Users\\PijuP\\AppData\\Local\\Temp/ipykernel_2164/239374313.py:13: RuntimeWarning: invalid value encountered in longlong_scalars\n",
      "  p2 = f/(f+c+i)\n"
     ]
    },
    {
     "name": "stdout",
     "output_type": "stream",
     "text": [
      "LL3\n",
      "nan\n"
     ]
    },
    {
     "name": "stderr",
     "output_type": "stream",
     "text": [
      "C:\\Users\\PijuP\\AppData\\Local\\Temp/ipykernel_2164/239374313.py:9: RuntimeWarning: invalid value encountered in longlong_scalars\n",
      "  p1 = e/(e+b+h)\n",
      "C:\\Users\\PijuP\\AppData\\Local\\Temp/ipykernel_2164/239374313.py:13: RuntimeWarning: invalid value encountered in longlong_scalars\n",
      "  p2 = f/(f+c+i)\n"
     ]
    },
    {
     "name": "stdout",
     "output_type": "stream",
     "text": [
      "HH4\n",
      "nan\n"
     ]
    },
    {
     "name": "stderr",
     "output_type": "stream",
     "text": [
      "C:\\Users\\PijuP\\AppData\\Local\\Temp/ipykernel_2164/239374313.py:9: RuntimeWarning: invalid value encountered in longlong_scalars\n",
      "  p1 = e/(e+b+h)\n",
      "C:\\Users\\PijuP\\AppData\\Local\\Temp/ipykernel_2164/239374313.py:13: RuntimeWarning: invalid value encountered in longlong_scalars\n",
      "  p2 = f/(f+c+i)\n"
     ]
    },
    {
     "name": "stdout",
     "output_type": "stream",
     "text": [
      "LL4\n",
      "nan\n"
     ]
    },
    {
     "name": "stderr",
     "output_type": "stream",
     "text": [
      "C:\\Users\\PijuP\\AppData\\Local\\Temp/ipykernel_2164/239374313.py:9: RuntimeWarning: invalid value encountered in longlong_scalars\n",
      "  p1 = e/(e+b+h)\n",
      "C:\\Users\\PijuP\\AppData\\Local\\Temp/ipykernel_2164/239374313.py:13: RuntimeWarning: invalid value encountered in longlong_scalars\n",
      "  p2 = f/(f+c+i)\n"
     ]
    },
    {
     "name": "stdout",
     "output_type": "stream",
     "text": [
      "HH5\n",
      "nan\n"
     ]
    },
    {
     "name": "stderr",
     "output_type": "stream",
     "text": [
      "C:\\Users\\PijuP\\AppData\\Local\\Temp/ipykernel_2164/239374313.py:9: RuntimeWarning: invalid value encountered in longlong_scalars\n",
      "  p1 = e/(e+b+h)\n",
      "C:\\Users\\PijuP\\AppData\\Local\\Temp/ipykernel_2164/239374313.py:13: RuntimeWarning: invalid value encountered in longlong_scalars\n",
      "  p2 = f/(f+c+i)\n"
     ]
    },
    {
     "name": "stdout",
     "output_type": "stream",
     "text": [
      "LL5\n",
      "nan\n"
     ]
    },
    {
     "name": "stderr",
     "output_type": "stream",
     "text": [
      "C:\\Users\\PijuP\\AppData\\Local\\Temp/ipykernel_2164/239374313.py:9: RuntimeWarning: invalid value encountered in longlong_scalars\n",
      "  p1 = e/(e+b+h)\n",
      "C:\\Users\\PijuP\\AppData\\Local\\Temp/ipykernel_2164/239374313.py:13: RuntimeWarning: invalid value encountered in longlong_scalars\n",
      "  p2 = f/(f+c+i)\n"
     ]
    },
    {
     "name": "stdout",
     "output_type": "stream",
     "text": [
      "HH6\n",
      "nan\n"
     ]
    },
    {
     "name": "stderr",
     "output_type": "stream",
     "text": [
      "C:\\Users\\PijuP\\AppData\\Local\\Temp/ipykernel_2164/239374313.py:9: RuntimeWarning: invalid value encountered in longlong_scalars\n",
      "  p1 = e/(e+b+h)\n",
      "C:\\Users\\PijuP\\AppData\\Local\\Temp/ipykernel_2164/239374313.py:13: RuntimeWarning: invalid value encountered in longlong_scalars\n",
      "  p2 = f/(f+c+i)\n"
     ]
    },
    {
     "name": "stdout",
     "output_type": "stream",
     "text": [
      "LL6\n",
      "nan\n"
     ]
    },
    {
     "name": "stderr",
     "output_type": "stream",
     "text": [
      "C:\\Users\\PijuP\\AppData\\Local\\Temp/ipykernel_2164/239374313.py:9: RuntimeWarning: invalid value encountered in longlong_scalars\n",
      "  p1 = e/(e+b+h)\n",
      "C:\\Users\\PijuP\\AppData\\Local\\Temp/ipykernel_2164/239374313.py:13: RuntimeWarning: invalid value encountered in longlong_scalars\n",
      "  p2 = f/(f+c+i)\n"
     ]
    },
    {
     "name": "stdout",
     "output_type": "stream",
     "text": [
      "HH7\n",
      "nan\n"
     ]
    },
    {
     "name": "stderr",
     "output_type": "stream",
     "text": [
      "C:\\Users\\PijuP\\AppData\\Local\\Temp/ipykernel_2164/239374313.py:9: RuntimeWarning: invalid value encountered in longlong_scalars\n",
      "  p1 = e/(e+b+h)\n",
      "C:\\Users\\PijuP\\AppData\\Local\\Temp/ipykernel_2164/239374313.py:13: RuntimeWarning: invalid value encountered in longlong_scalars\n",
      "  p2 = f/(f+c+i)\n"
     ]
    },
    {
     "name": "stdout",
     "output_type": "stream",
     "text": [
      "LL7\n",
      "nan\n"
     ]
    },
    {
     "name": "stderr",
     "output_type": "stream",
     "text": [
      "C:\\Users\\PijuP\\AppData\\Local\\Temp/ipykernel_2164/239374313.py:9: RuntimeWarning: invalid value encountered in longlong_scalars\n",
      "  p1 = e/(e+b+h)\n",
      "C:\\Users\\PijuP\\AppData\\Local\\Temp/ipykernel_2164/239374313.py:13: RuntimeWarning: invalid value encountered in longlong_scalars\n",
      "  p2 = f/(f+c+i)\n"
     ]
    },
    {
     "name": "stdout",
     "output_type": "stream",
     "text": [
      "HH8\n",
      "nan\n"
     ]
    },
    {
     "name": "stderr",
     "output_type": "stream",
     "text": [
      "C:\\Users\\PijuP\\AppData\\Local\\Temp/ipykernel_2164/239374313.py:9: RuntimeWarning: invalid value encountered in longlong_scalars\n",
      "  p1 = e/(e+b+h)\n",
      "C:\\Users\\PijuP\\AppData\\Local\\Temp/ipykernel_2164/239374313.py:13: RuntimeWarning: invalid value encountered in longlong_scalars\n",
      "  p2 = f/(f+c+i)\n"
     ]
    },
    {
     "name": "stdout",
     "output_type": "stream",
     "text": [
      "LL8\n",
      "nan\n"
     ]
    },
    {
     "name": "stderr",
     "output_type": "stream",
     "text": [
      "C:\\Users\\PijuP\\AppData\\Local\\Temp/ipykernel_2164/239374313.py:9: RuntimeWarning: invalid value encountered in longlong_scalars\n",
      "  p1 = e/(e+b+h)\n",
      "C:\\Users\\PijuP\\AppData\\Local\\Temp/ipykernel_2164/239374313.py:13: RuntimeWarning: invalid value encountered in longlong_scalars\n",
      "  p2 = f/(f+c+i)\n"
     ]
    },
    {
     "name": "stdout",
     "output_type": "stream",
     "text": [
      "HH9\n",
      "nan\n"
     ]
    },
    {
     "name": "stderr",
     "output_type": "stream",
     "text": [
      "C:\\Users\\PijuP\\AppData\\Local\\Temp/ipykernel_2164/239374313.py:9: RuntimeWarning: invalid value encountered in longlong_scalars\n",
      "  p1 = e/(e+b+h)\n",
      "C:\\Users\\PijuP\\AppData\\Local\\Temp/ipykernel_2164/239374313.py:13: RuntimeWarning: invalid value encountered in longlong_scalars\n",
      "  p2 = f/(f+c+i)\n"
     ]
    },
    {
     "name": "stdout",
     "output_type": "stream",
     "text": [
      "LL9\n",
      "nan\n"
     ]
    },
    {
     "name": "stderr",
     "output_type": "stream",
     "text": [
      "C:\\Users\\PijuP\\AppData\\Local\\Temp/ipykernel_2164/239374313.py:9: RuntimeWarning: invalid value encountered in longlong_scalars\n",
      "  p1 = e/(e+b+h)\n",
      "C:\\Users\\PijuP\\AppData\\Local\\Temp/ipykernel_2164/239374313.py:13: RuntimeWarning: invalid value encountered in longlong_scalars\n",
      "  p2 = f/(f+c+i)\n"
     ]
    },
    {
     "name": "stdout",
     "output_type": "stream",
     "text": [
      "HH10\n",
      "nan\n"
     ]
    },
    {
     "name": "stderr",
     "output_type": "stream",
     "text": [
      "C:\\Users\\PijuP\\AppData\\Local\\Temp/ipykernel_2164/239374313.py:9: RuntimeWarning: invalid value encountered in longlong_scalars\n",
      "  p1 = e/(e+b+h)\n",
      "C:\\Users\\PijuP\\AppData\\Local\\Temp/ipykernel_2164/239374313.py:13: RuntimeWarning: invalid value encountered in longlong_scalars\n",
      "  p2 = f/(f+c+i)\n"
     ]
    },
    {
     "name": "stdout",
     "output_type": "stream",
     "text": [
      "LL10\n",
      "nan\n"
     ]
    },
    {
     "name": "stderr",
     "output_type": "stream",
     "text": [
      "C:\\Users\\PijuP\\AppData\\Local\\Temp/ipykernel_2164/239374313.py:9: RuntimeWarning: invalid value encountered in longlong_scalars\n",
      "  p1 = e/(e+b+h)\n",
      "C:\\Users\\PijuP\\AppData\\Local\\Temp/ipykernel_2164/239374313.py:13: RuntimeWarning: invalid value encountered in longlong_scalars\n",
      "  p2 = f/(f+c+i)\n"
     ]
    },
    {
     "name": "stdout",
     "output_type": "stream",
     "text": [
      "HH11\n",
      "nan\n"
     ]
    },
    {
     "name": "stderr",
     "output_type": "stream",
     "text": [
      "C:\\Users\\PijuP\\AppData\\Local\\Temp/ipykernel_2164/239374313.py:9: RuntimeWarning: invalid value encountered in longlong_scalars\n",
      "  p1 = e/(e+b+h)\n",
      "C:\\Users\\PijuP\\AppData\\Local\\Temp/ipykernel_2164/239374313.py:13: RuntimeWarning: invalid value encountered in longlong_scalars\n",
      "  p2 = f/(f+c+i)\n"
     ]
    },
    {
     "name": "stdout",
     "output_type": "stream",
     "text": [
      "LL11\n",
      "nan\n"
     ]
    },
    {
     "name": "stderr",
     "output_type": "stream",
     "text": [
      "C:\\Users\\PijuP\\AppData\\Local\\Temp/ipykernel_2164/239374313.py:9: RuntimeWarning: invalid value encountered in longlong_scalars\n",
      "  p1 = e/(e+b+h)\n",
      "C:\\Users\\PijuP\\AppData\\Local\\Temp/ipykernel_2164/239374313.py:13: RuntimeWarning: invalid value encountered in longlong_scalars\n",
      "  p2 = f/(f+c+i)\n"
     ]
    },
    {
     "name": "stdout",
     "output_type": "stream",
     "text": [
      "HH12\n",
      "nan\n",
      "LL12\n",
      "nan\n"
     ]
    },
    {
     "name": "stderr",
     "output_type": "stream",
     "text": [
      "C:\\Users\\PijuP\\AppData\\Local\\Temp/ipykernel_2164/239374313.py:9: RuntimeWarning: invalid value encountered in longlong_scalars\n",
      "  p1 = e/(e+b+h)\n",
      "C:\\Users\\PijuP\\AppData\\Local\\Temp/ipykernel_2164/239374313.py:13: RuntimeWarning: invalid value encountered in longlong_scalars\n",
      "  p2 = f/(f+c+i)\n"
     ]
    },
    {
     "data": {
      "text/plain": [
       "\"\\nclf = LogisticRegression(max_iter = 1000000, random_state = 0)\\nPrecision_of_variables = {}\\nPrecision_of_variables2 = {}\\nPrecision_of_variables3 = {}\\nfor value in col_x:\\n    clf = LogisticRegression(max_iter = 1000000, random_state = 0)\\n    clf.fit(xtrain.loc[:,[value]], ytrain)\\n    y_pred = clf.predict(xtest.loc[:,[value]])\\n    Precision_of_variables[value] = float(precision_score(ytest, y_pred, average='macro', zero_division = 1))\\n    Precision_of_variables2[value] = float(precision_score(ytest, y_pred, average='micro', zero_division = 1))\\n    Precision_of_variables3[value] = float(precision_score(ytest, y_pred, average='weighted', zero_division = 1))\\nSorted_list = pd.DataFrame.from_dict(Precision_of_variables, orient='index', columns =['Precision']).sort_values(by = 'Precision', ascending = 0)\\nSorted_list2 = pd.DataFrame.from_dict(Precision_of_variables2, orient='index', columns =['Precision']).sort_values(by = 'Precision', ascending = 0)\\nSorted_list3 = pd.DataFrame.from_dict(Precision_of_variables3, orient='index', columns =['Precision']).sort_values(by = 'Precision', ascending = 0)\\nprint(Sorted_list.head(10))\\nprint(Sorted_list2.head(10))\\nprint(Sorted_list3.head(10))\\n\""
      ]
     },
     "execution_count": 182,
     "metadata": {},
     "output_type": "execute_result"
    }
   ],
   "source": [
    "#tn, fp, fn, tp = confusion_matrix(y_actual, y_predict, labels=[0,1]).ravel()\n",
    "clf = LogisticRegression(max_iter = 1000000, random_state = 0)\n",
    "for value in col_x:\n",
    "    clf = LogisticRegression(max_iter = 1000000, random_state = 0)\n",
    "    clf.fit(xtrain.loc[:,[value]], ytrain)\n",
    "    y_pred = clf.predict(xtest.loc[:,[value]])\n",
    "    a,b,c,d,e,f,g,h,i = confusion_matrix(ytest,y_pred, labels=[0,1,2]).ravel()\n",
    "    try:\n",
    "        p1 = e/(e+b+h)\n",
    "    except ZeroDivisionError:\n",
    "        p1 = 0\n",
    "    try:\n",
    "        p2 = f/(f+c+i)\n",
    "    except ZeroDivisionError:\n",
    "        p2 = 0\n",
    "    p = (0.5*p1)+(0.5*p2)\n",
    "    print(value)\n",
    "    print(p)\n",
    "'''\n",
    "clf = LogisticRegression(max_iter = 1000000, random_state = 0)\n",
    "Precision_of_variables = {}\n",
    "Precision_of_variables2 = {}\n",
    "Precision_of_variables3 = {}\n",
    "for value in col_x:\n",
    "    clf = LogisticRegression(max_iter = 1000000, random_state = 0)\n",
    "    clf.fit(xtrain.loc[:,[value]], ytrain)\n",
    "    y_pred = clf.predict(xtest.loc[:,[value]])\n",
    "    Precision_of_variables[value] = float(precision_score(ytest, y_pred, average='macro', zero_division = 1))\n",
    "    Precision_of_variables2[value] = float(precision_score(ytest, y_pred, average='micro', zero_division = 1))\n",
    "    Precision_of_variables3[value] = float(precision_score(ytest, y_pred, average='weighted', zero_division = 1))\n",
    "Sorted_list = pd.DataFrame.from_dict(Precision_of_variables, orient='index', columns =['Precision']).sort_values(by = 'Precision', ascending = 0)\n",
    "Sorted_list2 = pd.DataFrame.from_dict(Precision_of_variables2, orient='index', columns =['Precision']).sort_values(by = 'Precision', ascending = 0)\n",
    "Sorted_list3 = pd.DataFrame.from_dict(Precision_of_variables3, orient='index', columns =['Precision']).sort_values(by = 'Precision', ascending = 0)\n",
    "print(Sorted_list.head(10))\n",
    "print(Sorted_list2.head(10))\n",
    "print(Sorted_list3.head(10))\n",
    "'''"
   ]
  },
  {
   "cell_type": "code",
   "execution_count": 183,
   "id": "2d592147",
   "metadata": {},
   "outputs": [
    {
     "ename": "ZeroDivisionError",
     "evalue": "division by zero",
     "output_type": "error",
     "traceback": [
      "\u001b[1;31m---------------------------------------------------------------------------\u001b[0m",
      "\u001b[1;31mZeroDivisionError\u001b[0m                         Traceback (most recent call last)",
      "\u001b[1;32m~\\AppData\\Local\\Temp/ipykernel_2164/518725911.py\u001b[0m in \u001b[0;36m<module>\u001b[1;34m\u001b[0m\n\u001b[1;32m----> 1\u001b[1;33m \u001b[0mprint\u001b[0m\u001b[1;33m(\u001b[0m\u001b[0mint\u001b[0m\u001b[1;33m(\u001b[0m\u001b[1;36m0\u001b[0m\u001b[1;33m/\u001b[0m\u001b[1;36m0\u001b[0m\u001b[1;33m)\u001b[0m\u001b[1;33m)\u001b[0m\u001b[1;33m\u001b[0m\u001b[1;33m\u001b[0m\u001b[0m\n\u001b[0m",
      "\u001b[1;31mZeroDivisionError\u001b[0m: division by zero"
     ]
    }
   ],
   "source": [
    "print(int(0/0))"
   ]
  },
  {
   "cell_type": "code",
   "execution_count": 124,
   "id": "84e7c695",
   "metadata": {},
   "outputs": [
    {
     "ename": "NameError",
     "evalue": "name 'ybtest' is not defined",
     "output_type": "error",
     "traceback": [
      "\u001b[1;31m---------------------------------------------------------------------------\u001b[0m",
      "\u001b[1;31mNameError\u001b[0m                                 Traceback (most recent call last)",
      "\u001b[1;32m~\\AppData\\Local\\Temp/ipykernel_2164/2909071189.py\u001b[0m in \u001b[0;36m<module>\u001b[1;34m\u001b[0m\n\u001b[1;32m----> 1\u001b[1;33m \u001b[0mprint\u001b[0m\u001b[1;33m(\u001b[0m\u001b[1;34m'Buy accuracy is '\u001b[0m \u001b[1;33m+\u001b[0m \u001b[0mstr\u001b[0m\u001b[1;33m(\u001b[0m\u001b[0mbalanced_accuracy_score\u001b[0m\u001b[1;33m(\u001b[0m\u001b[0mybtest\u001b[0m\u001b[1;33m,\u001b[0m \u001b[0myb_pred\u001b[0m\u001b[1;33m)\u001b[0m\u001b[1;33m)\u001b[0m\u001b[1;33m)\u001b[0m\u001b[1;33m\u001b[0m\u001b[1;33m\u001b[0m\u001b[0m\n\u001b[0m\u001b[0;32m      2\u001b[0m \u001b[0mprint\u001b[0m\u001b[1;33m(\u001b[0m\u001b[1;34m'Buy report:'\u001b[0m\u001b[1;33m)\u001b[0m\u001b[1;33m\u001b[0m\u001b[1;33m\u001b[0m\u001b[0m\n\u001b[0;32m      3\u001b[0m \u001b[0mprint\u001b[0m\u001b[1;33m(\u001b[0m\u001b[0mclassification_report\u001b[0m\u001b[1;33m(\u001b[0m\u001b[0mybtest\u001b[0m\u001b[1;33m,\u001b[0m \u001b[0myb_pred\u001b[0m\u001b[1;33m)\u001b[0m\u001b[1;33m)\u001b[0m\u001b[1;33m\u001b[0m\u001b[1;33m\u001b[0m\u001b[0m\n\u001b[0;32m      4\u001b[0m \u001b[1;33m\u001b[0m\u001b[0m\n\u001b[0;32m      5\u001b[0m '''\n",
      "\u001b[1;31mNameError\u001b[0m: name 'ybtest' is not defined"
     ]
    }
   ],
   "source": [
    "print('Buy accuracy is ' + str(balanced_accuracy_score(ybtest, yb_pred)))\n",
    "print('Buy report:')\n",
    "print(classification_report(ybtest, yb_pred))\n",
    "\n",
    "'''\n",
    "So the precision is about 26-27% in both cases, and with cross validation with Kfolds rather than\n",
    "HOCV, this is likely to get worse. It still certainly better than 50-50 [the 15-16% threshold noted above], but\n",
    "we definately want this to be much better. We could try to scatterchart the dependent variables\n",
    "and use simple visualisation to manuallly flatten the data by keeping only those with appropriate distributions, \n",
    "or we could go back and do further feature engineering, or optimise the regressor based on balancing method.\n",
    "The best option, by conventional wisdom, is to use a better algorithim. In the next notebook, we'll try a simple decision tree'\n",
    "'''"
   ]
  },
  {
   "cell_type": "code",
   "execution_count": null,
   "id": "9bc0f70c",
   "metadata": {},
   "outputs": [],
   "source": []
  }
 ],
 "metadata": {
  "kernelspec": {
   "display_name": "Python 3 (ipykernel)",
   "language": "python",
   "name": "python3"
  },
  "language_info": {
   "codemirror_mode": {
    "name": "ipython",
    "version": 3
   },
   "file_extension": ".py",
   "mimetype": "text/x-python",
   "name": "python",
   "nbconvert_exporter": "python",
   "pygments_lexer": "ipython3",
   "version": "3.9.7"
  }
 },
 "nbformat": 4,
 "nbformat_minor": 5
}
