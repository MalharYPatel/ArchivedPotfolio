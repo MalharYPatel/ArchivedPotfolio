{
 "cells": [
  {
   "cell_type": "code",
   "execution_count": 3,
   "id": "7ccbabb9",
   "metadata": {},
   "outputs": [],
   "source": [
    "# -*- coding: utf-8 -*-\n",
    "\"\"\"\n",
    "Created on Fri Mar 11 13:25:40 2022\n",
    "\n",
    "@author: Malhar\n",
    "Logisitic regression of variables affecting Buy and Sell Outcomes. Rather than make each outcome a catagorical, I chose to run\n",
    "each regression buy/sell seperately to acheive better fits\n",
    "\n",
    "\"\"\"\n",
    "import pandas as pd\n",
    "from sklearn.model_selection import train_test_split\n",
    "from sklearn.preprocessing import StandardScaler\n",
    "from sklearn.linear_model import LogisticRegression\n",
    "from sklearn.metrics import confusion_matrix\n",
    "from sklearn.metrics import balanced_accuracy_score\n",
    "from sklearn.metrics import classification_report\n",
    "from sklearn.metrics import precision_score\n",
    "#we use the imbalanced learn library to correct imbalanced data\n",
    "from imblearn.over_sampling import RandomOverSampler\n"
   ]
  },
  {
   "cell_type": "code",
   "execution_count": 4,
   "id": "a8222337",
   "metadata": {},
   "outputs": [
    {
     "name": "stdout",
     "output_type": "stream",
     "text": [
      "False    99088\n",
      "True     18482\n",
      "Name: Buy, dtype: int64\n",
      "False    99299\n",
      "True     18271\n",
      "Name: Sell, dtype: int64\n",
      "(117570, 52)\n"
     ]
    }
   ],
   "source": [
    "\n",
    "#import the data we cleaned in the previous notebook\n",
    "df = pd.read_csv(\"EURUSD1H_Cleaned.csv\")\n",
    "#Some Simple metrics on how many True/False values occur for Buy/Sell\n",
    "print(df['Buy'].value_counts())\n",
    "print(df['Sell'].value_counts())\n",
    "print(df.shape)\n",
    "#Shows Buy Signal 15.72% of the time, Sell Signal 15.54% of the time. We will need to balance the data"
   ]
  },
  {
   "cell_type": "code",
   "execution_count": 5,
   "id": "bcb8006c",
   "metadata": {},
   "outputs": [],
   "source": [
    "#Convert the Buy/Sell columns to numbers, since these are not scaled\n",
    "df[['Buy','Sell']] = df[['Buy','Sell']] * 1\n",
    "\n",
    "#There are a lot of columns, so making a list to slice the df in the future is quicker\n",
    "col_x = ['Volume', 'Month', 'Day', 'Hour', 'Change', 'Range', 'MA5', 'MA7', 'MA9', 'MA12', 'MA14', 'MA21', 'MA24', 'MA50', 'MA100', 'MA120', 'MA200', 'Range5', 'Range7', 'Range9', 'Range12', 'Range14', 'Range21', 'Range24', 'Range50', 'Range100', 'Range120', 'Range200', 'HH2', 'LL2', 'HH3', 'LL3', 'HH4', 'LL4', 'HH5', 'LL5', 'HH6', 'LL6', 'HH7', 'LL7', 'HH8', 'LL8', 'HH9', 'LL9', 'HH10', 'LL10', 'HH11', 'LL11', 'HH12', 'LL12']\n",
    "\n",
    "#x are the independant variables, y is the dependant variable\n",
    "#b is for a buy outcome, and s for selll outcomes\n",
    "\n",
    "xb = df[col_x]\n",
    "xs = df[col_x]\n",
    "yb = df['Buy']\n",
    "ys =  df['Sell']"
   ]
  },
  {
   "cell_type": "code",
   "execution_count": 6,
   "id": "58277325",
   "metadata": {},
   "outputs": [],
   "source": [
    "#Split test and train data for Buy and Sell using Hold Out method\n",
    "xbtrain, xbtest, ybtrain, ybtest = train_test_split(\n",
    "\t\txb, yb, test_size = 0.25, random_state = 0)\n",
    "xstrain, xstest, ystrain, ystest = train_test_split(\n",
    "\t\txs, ys, test_size = 0.25, random_state = 0)"
   ]
  },
  {
   "cell_type": "code",
   "execution_count": 7,
   "id": "a7b86837",
   "metadata": {},
   "outputs": [],
   "source": [
    "#Resample to balance, using unbalanced learn, Random Oversampler algorithim [less computationally intensive than SMOTE]\n",
    "xbtrain, ybtrain = RandomOverSampler().fit_resample(xbtrain, ybtrain)\n",
    "xstrain, ystrain = RandomOverSampler().fit_resample(xstrain, ystrain)"
   ]
  },
  {
   "cell_type": "code",
   "execution_count": 8,
   "id": "140bbaed",
   "metadata": {},
   "outputs": [],
   "source": [
    "#Scale data and make non numeric data numeric\n",
    "sc_xb = StandardScaler()\n",
    "xbtrain = sc_xb.fit_transform(xbtrain)\n",
    "xbtest = sc_xb.transform(xbtest)\n",
    "\n",
    "sc_xs = StandardScaler()\n",
    "xstrain = sc_xs.fit_transform(xstrain)\n",
    "xstest = sc_xs.transform(xstest)"
   ]
  },
  {
   "cell_type": "code",
   "execution_count": 9,
   "id": "e3eee55c",
   "metadata": {},
   "outputs": [
    {
     "name": "stdout",
     "output_type": "stream",
     "text": [
      "Confusion Matrix : \n",
      " [[17386  7349]\n",
      " [ 1995  2663]]\n",
      "Precision is 0.2659808230123851\n",
      "Confusion Matrix : \n",
      " [[17469  7308]\n",
      " [ 1985  2631]]\n",
      "Precision is 0.26471476003622096\n"
     ]
    }
   ],
   "source": [
    "#train logistic regression model for Buy and Sell\n",
    "classifier_buy = LogisticRegression(max_iter = 1000000, random_state = 0)\n",
    "classifier_buy.fit(xbtrain, ybtrain)\n",
    "\n",
    "classifier_sell = LogisticRegression(max_iter = 1000000, random_state = 0)\n",
    "classifier_sell.fit(xstrain, ystrain)\n",
    "\n",
    "#Predict values as a series for both models\n",
    "yb_pred = classifier_buy.predict(xbtest)\n",
    "ys_pred = classifier_sell.predict(xstest)\n",
    "\n",
    "#Confusion matrix\n",
    "cmb = confusion_matrix(ybtest, yb_pred)\n",
    "cms = confusion_matrix(ystest, ys_pred)\n",
    "\n",
    "print (\"Confusion Matrix : \\n\", cmb)\n",
    "print('Precision is ' + str(precision_score(ybtest, yb_pred)))\n",
    "\n",
    "print (\"Confusion Matrix : \\n\", cms)\n",
    "print('Precision is ' + str(precision_score(ystest, ys_pred)))"
   ]
  },
  {
   "cell_type": "code",
   "execution_count": 12,
   "id": "c8d40236",
   "metadata": {},
   "outputs": [
    {
     "name": "stdout",
     "output_type": "stream",
     "text": [
      "Buy accuracy is 0.6372976175194285\n",
      "Buy report:\n",
      "              precision    recall  f1-score   support\n",
      "\n",
      "           0       0.90      0.70      0.79     24735\n",
      "           1       0.27      0.57      0.36      4658\n",
      "\n",
      "    accuracy                           0.68     29393\n",
      "   macro avg       0.58      0.64      0.58     29393\n",
      "weighted avg       0.80      0.68      0.72     29393\n",
      "\n"
     ]
    },
    {
     "data": {
      "text/plain": [
       "\"\\nSo the precision is about 26-27% in both cases, and with cross validation with Kfolds rather than\\nHOCV, this is likely to get worse. It still certainly better than 50-50, but\\nwe definately want this to be much better. We could try to scatterchart the dependent variables\\nand use simple visualisation to manuallly flatten the data, or go back and do furtherr feature engineering\\nA better option, is to use a better algorithim. In the next notebook, we'll try a simple decision tree'\\n\""
      ]
     },
     "execution_count": 12,
     "metadata": {},
     "output_type": "execute_result"
    }
   ],
   "source": [
    "print('Buy accuracy is ' + str(balanced_accuracy_score(ybtest, yb_pred)))\n",
    "print('Buy report:')\n",
    "print(classification_report(ybtest, yb_pred))\n",
    "\n",
    "'''\n",
    "So the precision is about 26-27% in both cases, and with cross validation with Kfolds rather than\n",
    "HOCV, this is likely to get worse. It still certainly better than 50-50 [the 15-16% threshold noted above], but\n",
    "we definately want this to be much better. We could try to scatterchart the dependent variables\n",
    "and use simple visualisation to manuallly flatten the data by keeping only those with appropriate distributions, \n",
    "or we could go back and do further feature engineering, or optimise the regressor based on balancing method.\n",
    "The best option, by conventional wisdom, is to use a better algorithim. In the next notebook, we'll try a simple decision tree'\n",
    "'''"
   ]
  },
  {
   "cell_type": "code",
   "execution_count": null,
   "id": "412c1ff8",
   "metadata": {},
   "outputs": [],
   "source": []
  }
 ],
 "metadata": {
  "kernelspec": {
   "display_name": "Python 3 (ipykernel)",
   "language": "python",
   "name": "python3"
  },
  "language_info": {
   "codemirror_mode": {
    "name": "ipython",
    "version": 3
   },
   "file_extension": ".py",
   "mimetype": "text/x-python",
   "name": "python",
   "nbconvert_exporter": "python",
   "pygments_lexer": "ipython3",
   "version": "3.9.7"
  }
 },
 "nbformat": 4,
 "nbformat_minor": 5
}
