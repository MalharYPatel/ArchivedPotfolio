{
 "cells": [
  {
   "cell_type": "code",
   "execution_count": null,
   "id": "f8a44651",
   "metadata": {},
   "outputs": [],
   "source": [
    "# -*- coding: utf-8 -*-\n",
    "\"\"\"\n",
    "The following notebook uses a dataset downloaded from https://www.dukascopy.com/swiss/english/marketwatch/historical/\n",
    "\n",
    "@author: Malhar\n",
    "We are creating a new Datasheet which will be using in our future projects\n",
    "looking at regressions, and Tree Algorithims\n",
    "\"\"\"\n",
    "import pandas as pd\n",
    "pd.set_option('display.max_columns', 500)\n",
    "df = pd.read_csv(\"EURUSD_1H.csv\")\n",
    "#print(df.head(10))"
   ]
  },
  {
   "cell_type": "code",
   "execution_count": null,
   "id": "bb851d5d",
   "metadata": {},
   "outputs": [],
   "source": [
    "#Next we convert the local time column into a date_time, and the rest to floats\n",
    "'''\n",
    "#df['Local time'] = pd.to_datetime(df['Local time'], errors = 'coerce')\n",
    "doesn't work. The parser failed to understand the column. So we have to do it manually\n",
    "first we slice the string to remove the excess,\n",
    "then we convert to date time, using dayfirst. Lastly we rename for convenience\n",
    "'''\n",
    "df['Local time'] = df['Local time'].str.slice(0,19)\n",
    "df['Local time'] = pd.to_datetime(df['Local time'], errors = 'coerce', dayfirst=True)\n",
    "df = df.rename({'Local time':'Date_Time'}, axis = 1)\n",
    "#print(df.info())\n",
    "#we can see all the datatypes are now correct"
   ]
  },
  {
   "cell_type": "code",
   "execution_count": null,
   "id": "deb9048e",
   "metadata": {},
   "outputs": [],
   "source": [
    "#now we need to add potentially useful columns as our dependant variables\n",
    "#First, lets make Day and month specific columns\n",
    "df['Month'] = df['Date_Time'].dt.month\n",
    "df['Day'] = df['Date_Time'].dt.day\n",
    "df['Hour'] = df['Date_Time'].dt.hour"
   ]
  },
  {
   "cell_type": "code",
   "execution_count": null,
   "id": "a5552cf0",
   "metadata": {},
   "outputs": [],
   "source": [
    "#next, the change in the current candle and the range of the current candle\n",
    "df['Change'] = 10000 * (df['Close']-df['Open'])\n",
    "df['Range'] = 10000 * (df['Low']-df['High'])"
   ]
  },
  {
   "cell_type": "code",
   "execution_count": null,
   "id": "7d27338f",
   "metadata": {},
   "outputs": [],
   "source": [
    "#now we add, the difference between the close price, and the Moving average of closes for various time periods\n",
    "#start by making a list of most commonly used MAs, plus some that make sense for an hourly timeframe\n",
    "MA_list = [5,7,9,12,14,21,24,50,100,120,200]\n",
    "for n in MA_list:\n",
    "    name = 'MA'+ str(n)\n",
    "    df[name] = 10000*(df['Close'] - df['Close'].rolling(n).mean())"
   ]
  },
  {
   "cell_type": "code",
   "execution_count": null,
   "id": "0341ca80",
   "metadata": {},
   "outputs": [],
   "source": [
    "#now we do the difference between the current range, and the moving average of hourly ranges for the same lookback periods as above\n",
    "\n",
    "for n in MA_list:\n",
    "    name = 'Range'+ str(n)\n",
    "    df[name] = df['Range'] - df['Range'].rolling(n).mean()"
   ]
  },
  {
   "cell_type": "code",
   "execution_count": null,
   "id": "c7318eae",
   "metadata": {},
   "outputs": [],
   "source": [
    "#And lastly a check if this is the highest high or lowest Low over the last 12 hours\n",
    "#The code checks if the current high/low is the max of the rolling high/low\n",
    "for n in range(2,13):\n",
    "    name = 'HH'+ str(n)\n",
    "    name2 = 'LL'+ str(n)\n",
    "    df[name] = df['High'] == df['High'].rolling(n).max()\n",
    "    df[name2] = df['Low'] == df['Low'].rolling(n).min()"
   ]
  },
  {
   "cell_type": "code",
   "execution_count": null,
   "id": "956d2d70",
   "metadata": {},
   "outputs": [],
   "source": [
    "#Now we create 2 columns which will include 2 potential dependant variables\n",
    "#In this case, is the  next candle change >=  +10pips, or <= -10 pips \n",
    "df['Buy'] = df['Change'].shift(-1) >=10\n",
    "df['Sell'] = df['Change'].shift(-1) <=-10\n",
    "\n",
    "#Lastly, we drop the NaN values, and all the columns which don't matter\n",
    "df = df.dropna()\n",
    "df = df.drop(columns=['Date_Time','Open','High','Low','Close'])\n",
    "\n",
    "df.to_csv(\"EURUSD1H_Cleaned.csv\", index=False)"
   ]
  }
 ],
 "metadata": {
  "kernelspec": {
   "display_name": "Python 3 (ipykernel)",
   "language": "python",
   "name": "python3"
  },
  "language_info": {
   "codemirror_mode": {
    "name": "ipython",
    "version": 3
   },
   "file_extension": ".py",
   "mimetype": "text/x-python",
   "name": "python",
   "nbconvert_exporter": "python",
   "pygments_lexer": "ipython3",
   "version": "3.9.7"
  }
 },
 "nbformat": 4,
 "nbformat_minor": 5
}
