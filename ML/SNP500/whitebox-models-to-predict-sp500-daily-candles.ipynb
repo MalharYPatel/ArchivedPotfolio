{
 "cells": [
  {
   "cell_type": "code",
   "execution_count": 3,
   "metadata": {},
   "outputs": [
    {
     "data": {
      "text/plain": [
       "\"\\nThis is a modified notebook from the one found on my Kaggle page.\\nKaggle doesn't feature the lineartrees, so I have created an ammended version, havign downloaded the data from:\\nhttps://www.kaggle.com/datasets/joshuaquahshousing/snp500-max\\nThe updated notebook here, inlcudes a linear tree classifier as well as the other code found on my Kaggle notebook\\n\\n\""
      ]
     },
     "execution_count": 3,
     "metadata": {},
     "output_type": "execute_result"
    }
   ],
   "source": [
    "'''\n",
    "This is a modified notebook from the one found on my Kaggle page.\n",
    "Kaggle doesn't feature the lineartrees, so I have created an ammended version, having downloaded the data from:\n",
    "https://www.kaggle.com/datasets/joshuaquahshousing/snp500-max\n",
    "The updated notebook here, inlcudes a linear tree classifier as well as the other code found on my Kaggle notebook\n",
    "https://www.kaggle.com/code/malhardata/whitebox-models-to-predict-sp500-daily-candles\n",
    "'''"
   ]
  },
  {
   "cell_type": "code",
   "execution_count": 4,
   "metadata": {
    "execution": {
     "iopub.execute_input": "2022-03-28T09:46:12.482289Z",
     "iopub.status.busy": "2022-03-28T09:46:12.478270Z",
     "iopub.status.idle": "2022-03-28T09:46:12.507264Z",
     "shell.execute_reply": "2022-03-28T09:46:12.506151Z",
     "shell.execute_reply.started": "2022-03-28T09:46:12.482216Z"
    }
   },
   "outputs": [
    {
     "name": "stdout",
     "output_type": "stream",
     "text": [
      "         Date       Open       High        Low      Close  Adj Close  Volume\n",
      "0  1927-12-30  17.660000  17.660000  17.660000  17.660000  17.660000       0\n",
      "1  1928-01-03  17.760000  17.760000  17.760000  17.760000  17.760000       0\n",
      "2  1928-01-04  17.719999  17.719999  17.719999  17.719999  17.719999       0\n",
      "3  1928-01-05  17.549999  17.549999  17.549999  17.549999  17.549999       0\n",
      "4  1928-01-06  17.660000  17.660000  17.660000  17.660000  17.660000       0\n",
      "5  1928-01-09  17.500000  17.500000  17.500000  17.500000  17.500000       0\n",
      "6  1928-01-10  17.370001  17.370001  17.370001  17.370001  17.370001       0\n",
      "7  1928-01-11  17.350000  17.350000  17.350000  17.350000  17.350000       0\n",
      "8  1928-01-12  17.469999  17.469999  17.469999  17.469999  17.469999       0\n",
      "9  1928-01-13  17.580000  17.580000  17.580000  17.580000  17.580000       0\n",
      "<class 'pandas.core.frame.DataFrame'>\n",
      "RangeIndex: 23305 entries, 0 to 23304\n",
      "Data columns (total 7 columns):\n",
      " #   Column     Non-Null Count  Dtype  \n",
      "---  ------     --------------  -----  \n",
      " 0   Date       23305 non-null  object \n",
      " 1   Open       23305 non-null  float64\n",
      " 2   High       23305 non-null  float64\n",
      " 3   Low        23305 non-null  float64\n",
      " 4   Close      23305 non-null  float64\n",
      " 5   Adj Close  23305 non-null  float64\n",
      " 6   Volume     23305 non-null  int64  \n",
      "dtypes: float64(5), int64(1), object(1)\n",
      "memory usage: 1.2+ MB\n",
      "None\n"
     ]
    }
   ],
   "source": [
    "#https://www.kaggle.com/datasets/joshuaquahshousing/snp500-max\n",
    "import pandas as pd\n",
    "import seaborn as sns\n",
    "import matplotlib.pyplot as plt\n",
    "\n",
    "from sklearn.linear_model import LogisticRegression\n",
    "from sklearn.tree import DecisionTreeClassifier\n",
    "from sklearn.metrics import confusion_matrix, accuracy_score\n",
    "from sklearn.preprocessing import StandardScaler\n",
    "from sklearn.model_selection import KFold, cross_val_score, cross_validate, train_test_split\n",
    "from sklearn.linear_model import RidgeClassifier\n",
    "from lineartree import LinearTreeClassifier\n",
    "df = pd.read_csv(\"D:\\\\GSPC latest snp.csv\")\n",
    "print(df.head(10))\n",
    "print(df.info())"
   ]
  },
  {
   "cell_type": "code",
   "execution_count": null,
   "metadata": {},
   "outputs": [],
   "source": [
    "#a) Some cleaning to start with\n",
    "df= df[df['Volume'] != 0]\n",
    "df = df.drop('Adj Close', axis = 1)\n",
    "#Now Some Feature Engineering \n",
    "#b)Dates\n",
    "df['Date'] = pd.to_datetime(df['Date'])\n",
    "df['Day'] = df['Date'].dt.day_name()\n",
    "df['Month'] = df['Date'].dt.month_name()\n",
    "df = df.drop('Date', axis = 1)\n",
    "#c)Difference between close and \n",
    "#Moving Averages, Bollinger Bands (at 2 stdev), ranges and Donchian Channels(Highest High and Lowest Low)\n",
    "for n in range(5,205,5):\n",
    "    MA_name = \"MA\" + str(n)\n",
    "    Range_name = \"Range\" + str(n)\n",
    "    UpperBB_name = \"UpperBB\" + str(n)\n",
    "    LowerBB_name = \"LowerBB\" + str(n)\n",
    "    HH_name = \"HH\" + str(n)\n",
    "    LL_name = \"LL\" + str(n)\n",
    "    df[MA_name] = df['Close'].rolling(n).mean() - df['Close']\n",
    "    df[UpperBB_name] = df[MA_name] + 2 * (df[MA_name].rolling(n).std())- df['Close']\n",
    "    df[LowerBB_name] = df[MA_name] - 2 * (df[MA_name].rolling(n).std())- df['Close']\n",
    "    df[Range_name] = df['High'].rolling(n).max() - df['Low'].rolling(n).min()- df['Close']\n",
    "    df[HH_name] = df['High'].rolling(n).max()- df['Close']\n",
    "    df[HH_name] = df['Low'].rolling(n).min()- df['Close']"
   ]
  },
  {
   "cell_type": "code",
   "execution_count": 6,
   "metadata": {
    "execution": {
     "iopub.execute_input": "2022-03-28T09:39:49.716018Z",
     "iopub.status.busy": "2022-03-28T09:39:49.715701Z",
     "iopub.status.idle": "2022-03-28T09:39:49.784938Z",
     "shell.execute_reply": "2022-03-28T09:39:49.78289Z",
     "shell.execute_reply.started": "2022-03-28T09:39:49.715987Z"
    }
   },
   "outputs": [],
   "source": [
    "#One Hot Encode ordinal catagorical variables\n",
    "categorical_columns = ['Day', 'Month']\n",
    "for column in categorical_columns:\n",
    "    tempdf = pd.get_dummies(df[column], prefix=column)\n",
    "    df = pd.merge(\n",
    "        left=df,\n",
    "        right=tempdf,\n",
    "        left_index=True,\n",
    "        right_index=True,\n",
    "    )\n",
    "    df = df.drop(columns=column)"
   ]
  },
  {
   "cell_type": "code",
   "execution_count": 7,
   "metadata": {
    "execution": {
     "iopub.status.busy": "2022-03-28T09:39:49.786352Z",
     "iopub.status.idle": "2022-03-28T09:39:49.786833Z",
     "shell.execute_reply": "2022-03-28T09:39:49.7866Z",
     "shell.execute_reply.started": "2022-03-28T09:39:49.78658Z"
    }
   },
   "outputs": [],
   "source": [
    "# Drop Nan values, Create dependent variable, ie whether next bar is positive/Bull or negative/bear (1 =+ve, 0 = negative)\n",
    "df= df.dropna()\n",
    "df['Y'] = (df['Close'].shift(-1) - df['Open'].shift(-1)) > 0\n",
    "#defragment\n",
    "tempdf = df.copy()\n",
    "df = tempdf\n",
    "X = df.drop('Y', axis = 1)\n",
    "y = df['Y']"
   ]
  },
  {
   "cell_type": "code",
   "execution_count": 8,
   "metadata": {
    "execution": {
     "iopub.execute_input": "2022-03-28T09:39:49.798933Z",
     "iopub.status.busy": "2022-03-28T09:39:49.798646Z",
     "iopub.status.idle": "2022-03-28T09:39:49.878113Z",
     "shell.execute_reply": "2022-03-28T09:39:49.876965Z",
     "shell.execute_reply.started": "2022-03-28T09:39:49.798903Z"
    }
   },
   "outputs": [],
   "source": [
    "#Split test and train data\n",
    "xtrain, xtest, ytrain, ytest = train_test_split(X, y, test_size = 0.25, random_state = 0)\n",
    "#Scale dependant variables\n",
    "sc = StandardScaler()\n",
    "xtrain = sc.fit_transform(xtrain)\n",
    "xtest = sc.transform(xtest)\n"
   ]
  },
  {
   "cell_type": "code",
   "execution_count": null,
   "metadata": {},
   "outputs": [],
   "source": [
    "#Run Decision Tree classifier and Cross Validate for the best variables\n",
    "Depth = []\n",
    "Features =[]\n",
    "Score = []\n",
    "for d in range(1,15,1):\n",
    "    for f in range(1,26,1):\n",
    "        Depth.append(d)\n",
    "        Features.append(f)\n",
    "        Score.append(cross_val_score(DecisionTreeClassifier(max_depth = d, max_features = f),xtrain,ytrain,cv= KFold(n_splits=5)).mean())\n",
    "cv = pd.DataFrame(list(zip(Depth, Features, Score)),columns = ['Depth', 'Features', 'Score'])\n",
    "cv = cv.pivot(\"Depth\", \"Features\", \"Score\")\n",
    "sns.heatmap(cv, cmap = 'viridis')\n",
    "#From this, it seems the best outcome is max features = 15, maxdepth = 6. However when looking for robust values, we want the most stable heatmap zone,not necessarily the max. So max features = 19, maxdepth = 4 is another one to try\n",
    "\n",
    "#Run Linear Tree classifier and Cross Validate for the best variables\n",
    "Depth_2 = []\n",
    "Bins =[]\n",
    "Score = []\n",
    "for d in range(1,15,1):\n",
    "    for b in range(10,35,5):\n",
    "        Depth_2.append(d)\n",
    "        Bins.append(b)\n",
    "        Score.append(cross_val_score(LinearTreeClassifier(base_estimator=RidgeClassifier(), max_depth = d, max_bins = b),xtrain,ytrain,cv= KFold(n_splits=5)).mean())\n",
    "cv = pd.DataFrame(list(zip(Depth_2, Bins, Score)),columns = ['Depth', 'Bins', 'Score'])\n",
    "cv = cv.pivot(\"Depth\", \"Bins\", \"Score\")\n",
    "sns.heatmap(cv, cmap = 'colormap')"
   ]
  },
  {
   "cell_type": "code",
   "execution_count": null,
   "metadata": {
    "execution": {
     "iopub.status.busy": "2022-03-28T09:40:04.657416Z",
     "iopub.status.idle": "2022-03-28T09:40:04.657874Z",
     "shell.execute_reply": "2022-03-28T09:40:04.657653Z",
     "shell.execute_reply.started": "2022-03-28T09:40:04.657615Z"
    }
   },
   "outputs": [],
   "source": [
    "#Fit both Decision Tree models, and a Logisitc regresion model\n",
    "DT1 =DecisionTreeClassifier(max_depth = 5, max_features = 25)\n",
    "DT2 =DecisionTreeClassifier(max_depth = 5, max_features = 18)\n",
    "LR = LogisticRegression(random_state = 0, max_iter = 10000)\n",
    "LT = LinearTreeClassifier(base_estimator=RidgeClassifier(), max_depth = 10, max_bins = 10)\n",
    "DT1.fit(xtrain, ytrain)\n",
    "DT2.fit(xtrain, ytrain)\n",
    "LR.fit(xtrain, ytrain)\n",
    "LT.fit(xtrain, ytrain)"
   ]
  },
  {
   "cell_type": "code",
   "execution_count": null,
   "metadata": {
    "execution": {
     "iopub.status.busy": "2022-03-28T09:40:04.660888Z",
     "iopub.status.idle": "2022-03-28T09:40:04.661524Z",
     "shell.execute_reply": "2022-03-28T09:40:04.661238Z",
     "shell.execute_reply.started": "2022-03-28T09:40:04.661208Z"
    }
   },
   "outputs": [],
   "source": [
    "#Test the models, and return metrics\n",
    "y_pred = DT1.predict(xtest)\n",
    "print('Decision Tree 1')\n",
    "print('accuracy score' + str(accuracy_score(ytest, y_pred)))\n",
    "print(confusion_matrix(ytest, y_pred))\n",
    "\n",
    "y_pred = DT2.predict(xtest)\n",
    "print('Decision Tree 2')\n",
    "print('accuracy score' + str(accuracy_score(ytest, y_pred)))\n",
    "print(confusion_matrix(ytest, y_pred))\n",
    "\n",
    "y_pred = LR.predict(xtest)\n",
    "print('Linear Regression')\n",
    "print('accuracy score' + str(accuracy_score(ytest, y_pred)))\n",
    "print(confusion_matrix(ytest, y_pred))\n",
    "\n",
    "y_pred = LT.predict(xtest)\n",
    "print('Linear Tree')\n",
    "print('accuracy score' + str(accuracy_score(ytest, y_pred)))\n",
    "print(confusion_matrix(ytest, y_pred))\n"
   ]
  }
 ],
 "metadata": {
  "kernelspec": {
   "display_name": "Python 3 (ipykernel)",
   "language": "python",
   "name": "python3"
  },
  "language_info": {
   "codemirror_mode": {
    "name": "ipython",
    "version": 3
   },
   "file_extension": ".py",
   "mimetype": "text/x-python",
   "name": "python",
   "nbconvert_exporter": "python",
   "pygments_lexer": "ipython3",
   "version": "3.9.7"
  }
 },
 "nbformat": 4,
 "nbformat_minor": 4
}
